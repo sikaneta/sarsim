{
 "cells": [
  {
   "cell_type": "code",
   "execution_count": null,
   "metadata": {},
   "outputs": [],
   "source": [
    "from space.planets import venus\n",
    "from orbit.pointing import simulation\n",
    "from orbit.timing import getTiming\n",
    "from orbit.envision import loadSV\n",
    "from tqdm import tqdm\n",
    "\n",
    "import numpy as np\n",
    "import matplotlib.pyplot as plt\n",
    "import json\n",
    "from datetime import datetime as dt\n",
    "import os"
   ]
  },
  {
   "cell_type": "code",
   "execution_count": null,
   "metadata": {},
   "outputs": [],
   "source": [
    "sim_folder = os.path.join(r\"C:\\Users\",\n",
    "                          r\"ishuwa.sikaneta\",\n",
    "                          r\"OneDrive - ESA\",\n",
    "                          r\"Documents\",\n",
    "                          r\"ESTEC\",\n",
    "                          r\"Envision\",\n",
    "                          r\"PointingSimulations\")"
   ]
  },
  {
   "cell_type": "markdown",
   "metadata": {},
   "source": [
    "### Define and load ESOC-supplied orbit file"
   ]
  },
  {
   "cell_type": "code",
   "execution_count": null,
   "metadata": {},
   "outputs": [],
   "source": [
    "svfile = os.path.join(r\"C:\\Users\",\n",
    "                          r\"ishuwa.sikaneta\",\n",
    "                          r\"OneDrive - ESA\",\n",
    "                          r\"Documents\",\n",
    "                          r\"ESTEC\",\n",
    "                          r\"Envision\",\n",
    "                          r\"Orbits\",\n",
    "                          r\"EnVision_ALT_T4_2032_SouthVOI.oem\")\n",
    "sv = loadSV(orbitfile = svfile)"
   ]
  },
  {
   "cell_type": "markdown",
   "metadata": {},
   "source": [
    "### Determine off-nadir angles\n",
    "\n",
    "Generate a plot of the incidence angle versus off_nadir angle. Multiple plots are created to reflect the relationship between incidence and off-nadir as a functin of orbit position. In particular, we use the first 100 state vectors to generate the plot.\n",
    "\n",
    "The plot illustrates that the off-nadir angles corresponding to 20 and 40 degree incidence angles are 18.7 and 37.5 (degrees)"
   ]
  },
  {
   "cell_type": "code",
   "execution_count": null,
   "metadata": {},
   "outputs": [],
   "source": [
    "\"\"\" \"\"\"\n",
    "off_nadir = np.arange(0.01,60,0.1)\n",
    "incidence = np.zeros((len(off_nadir), 100), dtype = float)\n",
    "\n",
    "for k in range(100):\n",
    "    _, _, incidence[:,k], _, _ = getTiming(sv, np.radians(off_nadir), idx = k)"
   ]
  },
  {
   "cell_type": "code",
   "execution_count": null,
   "metadata": {},
   "outputs": [],
   "source": [
    "\"\"\" Plot the result \"\"\"\n",
    "plt.figure()\n",
    "plt.plot(off_nadir, incidence)\n",
    "plt.xlabel(\"Off-nadir angle (deg)\")\n",
    "plt.ylabel(\"Incidence angle (deg)\")\n",
    "plt.grid()\n",
    "plt.show()"
   ]
  },
  {
   "cell_type": "markdown",
   "metadata": {},
   "source": [
    "# Simulate Pointing Errors\n",
    "\n",
    "The following class simulates pointing errors for an Envision-type SAR"
   ]
  },
  {
   "cell_type": "code",
   "execution_count": null,
   "metadata": {},
   "outputs": [],
   "source": [
    "eSim = simulation(planet = venus(),\n",
    "                  e_ang = 14.28,\n",
    "                  azAxis = 6.0,\n",
    "                  elAxis = 0.6,\n",
    "                  carrier = 3.15e9)"
   ]
  },
  {
   "cell_type": "markdown",
   "metadata": {},
   "source": [
    "### Select a subset of state vectors\n",
    "\n",
    "Select a range of state vectors to use for error simuation"
   ]
  },
  {
   "cell_type": "code",
   "execution_count": null,
   "metadata": {},
   "outputs": [],
   "source": [
    "selection_range = [270, 480, 2]\n",
    "mysvs = eSim.state(sv.measurementData, selection_range)\n",
    " \n",
    "times = [(sv.measurementTime[k] - sv.measurementTime[0])/np.timedelta64(1, 's') \n",
    "         for k in range(*selection_range)]"
   ]
  },
  {
   "cell_type": "markdown",
   "metadata": {},
   "source": [
    "### Define Covariances\n",
    "\n",
    "Define the covariance matrices of input to the simulation. These have been determined from the pointing justification document and the JPL-provided pointing spreadsheet."
   ]
  },
  {
   "cell_type": "code",
   "execution_count": null,
   "metadata": {},
   "outputs": [],
   "source": [
    "\"\"\" Define the covariances \"\"\"  \n",
    "covariances = {\n",
    "    \"spacecraft\": {\n",
    "        \"description\": \"Errors in the orientation of the spacecraft.\",\n",
    "        \"referenceVariables\": \"RollPitchYaw\",\n",
    "        \"units\": \"radians\",\n",
    "        \"R\": (np.diag([4.53e-3, 0.31e-3, 0.31e-3])**2).tolist()\n",
    "        },\n",
    "    \"instrument\": {\n",
    "        \"description\": \"Errors in the pointing of the antenna. From JPL spreadsheet\",\n",
    "        \"referenceVariables\": \"AzimuthElevationPitch\",\n",
    "        \"units\": \"radians\",\n",
    "        \"R\": (np.diag([0.41e-3, 0.97e-3, 0.24e-3])**2).tolist()\n",
    "        },\n",
    "    \"orbitVelocity\": {\n",
    "        \"description\": \"Errors in the orbit velocity vector\",\n",
    "        \"referenceVariables\": \"VxVyVz\",\n",
    "        \"units\": \"m/s\",\n",
    "        \"R\": (np.diag([0.2, 0.2, 0.2])**2).tolist()\n",
    "        },\n",
    "    \"orbitAlongTrack\": {\n",
    "        \"description\": \"Error in the orbit time (error in orbit angle)\",\n",
    "        \"referenceVariables\": \"t\",\n",
    "        \"units\": \"s\",\n",
    "        \"R\": 5**2\n",
    "        },\n",
    "    \"orbitAcrossTrack\": {\n",
    "        \"description\": \"Error in the orbit across track position (orbit tube)\",\n",
    "        \"referenceVariables\": \"dX\",\n",
    "        \"units\": \"m\",\n",
    "        \"R\": 430**2\n",
    "        }\n",
    "    }\n"
   ]
  },
  {
   "cell_type": "markdown",
   "metadata": {},
   "source": [
    "### Test the simulation of errors\n",
    "\n",
    "Test right looking configuration with an offnadir angle of -18.7 and left looking with an off-nadir of 18.7"
   ]
  },
  {
   "cell_type": "code",
   "execution_count": null,
   "metadata": {},
   "outputs": [],
   "source": [
    "off_nadir = -18.7\n",
    "res = eSim.simulateError(mysvs[0], \n",
    "                         off_nadir, \n",
    "                         covariances,\n",
    "                         loglevel=3)"
   ]
  },
  {
   "cell_type": "code",
   "execution_count": null,
   "metadata": {},
   "outputs": [],
   "source": [
    "off_nadir = 18.7\n",
    "res = eSim.simulateError(mysvs[0], \n",
    "                         off_nadir, \n",
    "                         covariances,\n",
    "                         loglevel=3)"
   ]
  },
  {
   "cell_type": "markdown",
   "metadata": {},
   "source": [
    "### Simulate over time\n",
    "\n",
    "The following function simulates errors over different parts of the orbit. The input `np.array(N,6)` supplies N state vectors over the orbit, and the simulation of errors is performed over these points."
   ]
  },
  {
   "cell_type": "code",
   "execution_count": null,
   "metadata": {},
   "outputs": [],
   "source": [
    "def errorsOverTime(mysvs, off_nadir, covariances):\n",
    "    \"\"\"\n",
    "    Simulate pointing errors over time\n",
    "\n",
    "    Simulate pointing errors over different orbit positions - which\n",
    "    correspond to different points in time.\n",
    "\n",
    "    Parameters\n",
    "    ----------\n",
    "    mysvs : `np.ndarray(6,N)`\n",
    "        Input array of state vectors\n",
    "    off_nadir : float\n",
    "        The off-nadir angle for the desired beam elevation direction\n",
    "    covariances : dict\n",
    "        A dictionary (json snippet) containing covariances to use in\n",
    "        the simultation\n",
    "\n",
    "    Returns\n",
    "    -------\n",
    "    dict\n",
    "        A dictionary (json snippet) containing the computed zero-Doppler\n",
    "        parameters and simulation results from the pointing error analysis.\n",
    "    \"\"\"\n",
    "    result = []\n",
    "    for k in tqdm(range(len(mysvs))):\n",
    "        dd = eSim.simulateError(mysvs[k], \n",
    "                                off_nadir, \n",
    "                                covariances)\n",
    "        result.append(dd)\n",
    "    return result"
   ]
  },
  {
   "cell_type": "markdown",
   "metadata": {},
   "source": [
    "### Compute errors for 20 degree incidence\n",
    "\n",
    "Compute the errors in swath beam overlap and Doppler centroid for the 20 degree incidence angle case. This should be the worst case for Roll error.\n",
    "\n",
    "The 20 degree incidence angle is computed to equate to an 18.7 degree off-nadir angle."
   ]
  },
  {
   "cell_type": "code",
   "execution_count": null,
   "metadata": {},
   "outputs": [],
   "source": [
    "res18p7 = errorsOverTime(mysvs, 18.7, covariances)"
   ]
  },
  {
   "cell_type": "code",
   "execution_count": null,
   "metadata": {},
   "outputs": [],
   "source": [
    "\"\"\" Save data to file \"\"\"\n",
    "\n",
    "filename = r\"incidence20-%s.json\" % dt.now().strftime(\"%Y-%m-%dT%H%M%S\")\n",
    "with open(os.path.join(sim_folder, filename), \"w\") as f:\n",
    "    f.write(json.dumps(res18p7, indent=2))"
   ]
  },
  {
   "cell_type": "markdown",
   "metadata": {},
   "source": [
    "### Compute errors for 40 degree incidence\n",
    "\n",
    "Compute the errors in swath beam overlap and Doppler centroid for the 40 degree incidence angle case. This should be the best case for Roll error.\n",
    "\n",
    "The 40 degree incidence angle is computed to equate to an 37.5 degree off-nadir angle."
   ]
  },
  {
   "cell_type": "code",
   "execution_count": null,
   "metadata": {},
   "outputs": [],
   "source": [
    "res37p5 = errorsOverTime(mysvs, 37.5, covariances)"
   ]
  },
  {
   "cell_type": "code",
   "execution_count": null,
   "metadata": {},
   "outputs": [],
   "source": [
    "\"\"\" Save data to file \"\"\"\n",
    "\n",
    "filename = r\"incidence40-%s.json\" % dt.now().strftime(\"%Y-%m-%dT%H%M%S\")\n",
    "with open(os.path.join(sim_folder, filename), \"w\") as f:\n",
    "    f.write(json.dumps(res37p5, indent=2))"
   ]
  },
  {
   "cell_type": "code",
   "execution_count": null,
   "metadata": {},
   "outputs": [],
   "source": [
    "dErrorRate = np.array([r[\"ErrorRate\"][\"Doppler\"] for r in res18p7])\n",
    "sErrorRate = np.array([r[\"ErrorRate\"][\"Swath\"] for r in res18p7])\n",
    "plt.figure()\n",
    "plt.plot(times, dErrorRate)\n",
    "plt.plot(times, sErrorRate)\n",
    "plt.ylim(0,5)\n",
    "plt.title(\"20 degree incidence angle\")\n",
    "plt.ylabel(\"Percentage in excess of threshold\")\n",
    "plt.xlabel(\"State Vector %s +Time (s)\" % np.datetime_as_string(sv.measurementTime[0]))\n",
    "plt.legend([\"Doppler\", \"Swath\"])\n",
    "plt.grid()\n",
    "plt.show()\n",
    "print(np.mean(sErrorRate))\n",
    "print(np.var(sErrorRate))\n",
    "print(np.var(dErrorRate))\n",
    "print(np.mean(dErrorRate))"
   ]
  },
  {
   "cell_type": "code",
   "execution_count": null,
   "metadata": {},
   "outputs": [],
   "source": [
    "dErrorRate = np.array([r[\"ErrorRate\"][\"Doppler\"] for r in res37p5])\n",
    "sErrorRate = np.array([r[\"ErrorRate\"][\"Swath\"] for r in res37p5])\n",
    "plt.figure()\n",
    "plt.plot(times, dErrorRate)\n",
    "plt.plot(times, sErrorRate)\n",
    "plt.ylim(0,5)\n",
    "plt.title(\"40 degree incidence angle\")\n",
    "plt.ylabel(\"Percentage in excess of threshold\")\n",
    "plt.xlabel(\"State Vector %s +Time (s)\" % np.datetime_as_string(sv.measurementTime[0]))\n",
    "plt.legend([\"Doppler\", \"Swath\"])\n",
    "plt.grid()\n",
    "plt.show()\n",
    "print(np.mean(sErrorRate))\n",
    "print(np.var(sErrorRate))\n",
    "print(np.var(dErrorRate))\n",
    "print(np.mean(dErrorRate))"
   ]
  },
  {
   "cell_type": "code",
   "execution_count": null,
   "metadata": {},
   "outputs": [],
   "source": [
    "#%% Run the simulation over a range of different pitch and yaw variances\n",
    "parray = np.arange(0.1, 0.4, 0.05)*1.0e-3\n",
    "yarray = np.arange(0.1, 1.2, 0.05)*1.0e-3\n",
    "\n",
    "res5p5 = []\n",
    "res4p5 = []\n",
    "for p in parray:\n",
    "    for y in yarray:\n",
    "        print(\"Pitch: %0.2e, Yaw: %0.2e\" % (p,y))\n",
    "        covariances[\"spacecraft\"][\"R\"] = (np.diag([4.5e-3, p, y])**2).tolist()\n",
    "        res4p5.append(eSim.simulateError(mysvs[0], off_nadir, covariances)) \n",
    "        covariances[\"spacecraft\"][\"R\"] = (np.diag([5.5e-3, p, y])**2).tolist()\n",
    "        res5p5.append(eSim.simulateError(mysvs[0], off_nadir, covariances)) "
   ]
  },
  {
   "cell_type": "code",
   "execution_count": null,
   "metadata": {},
   "outputs": [],
   "source": [
    "\"\"\" Save data to file \"\"\"\n",
    "\n",
    "filename = r\"pitchYawRoll5p5-%s.json\" % dt.now().strftime(\"%Y-%m-%dT%H%M%S\")\n",
    "with open(os.path.join(sim_folder, filename), \"w\") as f:\n",
    "    f.write(json.dumps(res5p5, indent=2))\n",
    "    \n",
    "filename = r\"pitchYawRoll4p5-%s.json\" % dt.now().strftime(\"%Y-%m-%dT%H%M%S\")\n",
    "with open(os.path.join(sim_folder, filename), \"w\") as f:\n",
    "    f.write(json.dumps(res4p5, indent=2))"
   ]
  },
  {
   "cell_type": "code",
   "execution_count": null,
   "metadata": {},
   "outputs": [],
   "source": [
    "#%% Read the Doppler error rate from the result of the previous cell\n",
    "dprate = np.array([r[\"ErrorRate\"][\"Doppler\"] \n",
    "                   for r in res4p5]).reshape((len(parray), len(yarray)))"
   ]
  },
  {
   "cell_type": "code",
   "execution_count": null,
   "metadata": {},
   "outputs": [],
   "source": [
    "#%% Make a contour plot of the percentage of Doppler errors\n",
    "plt.figure()\n",
    "plt.contour(yarray*1e3, parray*1e3, dprate, np.arange(1,10,0.5), origin='lower')\n",
    "plt.xlabel(\"yaw (mrad)\")\n",
    "plt.ylabel(\"pitch (mrad)\")\n",
    "plt.colorbar()\n",
    "plt.grid()\n",
    "plt.contour(yarray*1e3, \n",
    "            parray*1e3, \n",
    "            dprate, \n",
    "            np.array([5]), \n",
    "            origin='lower', \n",
    "            colors = ['red'])\n",
    "plt.title(\"Percentage of R-MIS-PER-1045 violations (Doppler)\")\n",
    "plt.show()"
   ]
  },
  {
   "cell_type": "code",
   "execution_count": null,
   "metadata": {},
   "outputs": [],
   "source": [
    "#%% Read the Doppler error rate from the result of the previous cell\n",
    "dprate = np.array([r[\"ErrorRate\"][\"Doppler\"] \n",
    "                   for r in res5p5]).reshape((len(parray), len(yarray)))"
   ]
  },
  {
   "cell_type": "code",
   "execution_count": null,
   "metadata": {},
   "outputs": [],
   "source": [
    "#%% Make a contour plot of the percentage of Doppler errors\n",
    "plt.figure()\n",
    "plt.contour(yarray*1e3, parray*1e3, dprate, np.arange(1,10,0.5), origin='lower')\n",
    "plt.xlabel(\"yaw (mrad)\")\n",
    "plt.ylabel(\"pitch (mrad)\")\n",
    "plt.colorbar()\n",
    "plt.grid()\n",
    "plt.contour(yarray*1e3, \n",
    "            parray*1e3, \n",
    "            dprate, \n",
    "            np.array([5]), \n",
    "            origin='lower', \n",
    "            colors = ['red'])\n",
    "plt.title(\"Percentage of R-MIS-PER-1045 violations (Doppler)\")\n",
    "plt.show()"
   ]
  }
 ],
 "metadata": {
  "kernelspec": {
   "display_name": "Python 3.10.6 ('esa')",
   "language": "python",
   "name": "python3"
  },
  "language_info": {
   "codemirror_mode": {
    "name": "ipython",
    "version": 3
   },
   "file_extension": ".py",
   "mimetype": "text/x-python",
   "name": "python",
   "nbconvert_exporter": "python",
   "pygments_lexer": "ipython3",
   "version": "3.10.6"
  },
  "orig_nbformat": 4,
  "vscode": {
   "interpreter": {
    "hash": "d2dff60ad268218bec0b9fb31034b1ecd1755601a6917604c9f90765041dd608"
   }
  }
 },
 "nbformat": 4,
 "nbformat_minor": 2
}
