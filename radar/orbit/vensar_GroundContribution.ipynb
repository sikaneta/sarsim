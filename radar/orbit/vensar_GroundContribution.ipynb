{
 "cells": [
  {
   "cell_type": "code",
   "execution_count": 3,
   "metadata": {},
   "outputs": [],
   "source": [
    "from space.planets import venus\n",
    "from orbit.pointing import simulation\n",
    "from orbit.geometry import getTiming\n",
    "from orbit.envision import loadSV\n",
    "from orbit.elasticOrbit import getSVFromTime, client\n",
    "from TCNerror import guidanceCovariance, getOrbitCovariances\n",
    "from measurement.measurement import state_vector\n",
    "from itertools import product\n",
    "\n",
    "\"\"\" System Packages \"\"\"\n",
    "from tqdm import tqdm\n",
    "import numpy as np\n",
    "import matplotlib.pyplot as plt\n",
    "import json\n",
    "from datetime import datetime as dt\n",
    "import os"
   ]
  },
  {
   "cell_type": "code",
   "execution_count": 4,
   "metadata": {},
   "outputs": [],
   "source": [
    "sim_folder = os.path.join(r\"C:\\Users\",\n",
    "                          r\"ishuwa.sikaneta\",\n",
    "                          r\"OneDrive - ESA\",\n",
    "                          r\"Documents\",\n",
    "                          r\"ESTEC\",\n",
    "                          r\"Envision\",\n",
    "                          r\"PointingSimulations\")"
   ]
  },
  {
   "attachments": {},
   "cell_type": "markdown",
   "metadata": {},
   "source": [
    "# Simulate Pointing Errors\n",
    "\n",
    "The following class simulates pointing errors for an Envision-type SAR"
   ]
  },
  {
   "cell_type": "code",
   "execution_count": 5,
   "metadata": {},
   "outputs": [],
   "source": [
    "mode = {\n",
    "    \"StandardSAR\": {\n",
    "        \"axes\": np.eye(3),\n",
    "        \"off_nadirs\": [18.7, 27.8, 36.9, -18.7, -27.8, -36.9]\n",
    "    },\n",
    "    \"Altimeter\": {\n",
    "        \"axes\": np.array([[0,1,0],[1,0,0],[0,0,1]]),\n",
    "        \"off_nadirs\": [0.001]\n",
    "    },\n",
    "    \"Near-Nadir Radiometry\": {\n",
    "        \"axes\": np.eye(3),\n",
    "        \"off_nadirs\": [-14.28]\n",
    "    },\n",
    "    \"Nadir Radiometry\": {\n",
    "        \"axes\": np.array([[0,1,0],[1,0,0],[0,0,1]]),\n",
    "        \"off_nadirs\": [0.001]\n",
    "    }\n",
    "}"
   ]
  },
  {
   "attachments": {},
   "cell_type": "markdown",
   "metadata": {},
   "source": [
    "### Define Covariances\n",
    "\n",
    "Define the set of input covariance matrices for the simulation. These are calculated using the guidanceCovariance function"
   ]
  },
  {
   "cell_type": "code",
   "execution_count": 6,
   "metadata": {},
   "outputs": [],
   "source": [
    "def guidance(tag, off_nadir):\n",
    "    gError = {\"Scenario\": getOrbitCovariances(tag),\n",
    "            \"off_nadir\": off_nadir,\n",
    "            \"mode\": modestr, \n",
    "            \"contributors\": []}\n",
    "    sv = getSVFromTime(gError[\"Scenario\"][\"UTC_time\"], frame=\"VME2000\")\n",
    "    X = sv.measurementData[0]\n",
    "    rng, _, inc, _, _ = getTiming(sv, [np.radians(off_nadir)])\n",
    "    gError[\"range\"] = rng[0]\n",
    "    gError[\"incidence\"] = inc[0]\n",
    "\n",
    "\n",
    "    R_TCNt, R_TCNp, R_TCNv = guidanceCovariance(tag)\n",
    "    R_AEUt = eSim.timing2aeuCovariance(X, off_nadir, R_TCNt)\n",
    "    R_AEUp = eSim.xtrackOffset2aeuCovarianceTCN(X, off_nadir, R_TCNp)\n",
    "    R_AEUv = eSim.velocity2aeuCovariance(X, off_nadir, R_TCNv)\n",
    "\n",
    "\n",
    "    \"\"\" RPY 2-sigma values from T error ESOC \"\"\"\n",
    "    R_RPYt = eSim.aeu2rpyCovariance(R_AEUt)\n",
    "    contributor = {\"Source\": \"Along-track Error\",\n",
    "                \"Domain\": \"RPY\",\n",
    "                \"n_sigma\": 2,\n",
    "                \"values\": (np.sqrt(np.diag(R_RPYt))*1e3*2).tolist()}\n",
    "    gError[\"contributors\"].append(contributor)\n",
    "\n",
    "    \"\"\" RPY 2-sigma values from velocity errors ESOC \"\"\"\n",
    "    R_RPYv = eSim.aeu2rpyCovariance(R_AEUv)\n",
    "    contributor = {\"Source\": \"TCN Velocity Error\",\n",
    "                \"Domain\": \"RPY\",\n",
    "                \"n_sigma\": 2,\n",
    "                \"values\": (np.sqrt(np.diag(R_RPYv))*1e3*2).tolist()}\n",
    "    gError[\"contributors\"].append(contributor)\n",
    "\n",
    "    \"\"\" RPY 2-sigma values from across-track and radial errors ESOC \"\"\"\n",
    "    R_RPYp = eSim.aeu2rpyCovariance(np.diag([0.0, R_AEUp, 0.0]))\n",
    "    contributor = {\"Source\": \"TCN Across-Track Error\",\n",
    "                \"Domain\": \"RPY\",\n",
    "                \"n_sigma\": 2,\n",
    "                \"values\": (np.sqrt(np.diag(R_RPYp))*1e3*2).tolist()}\n",
    "    gError[\"contributors\"].append(contributor)\n",
    "\n",
    "    \"\"\" Total in the RPY domain \"\"\"\n",
    "    rpy_total = (np.sqrt(np.diag(R_RPYt+R_RPYv+R_RPYp))*1e3*2).tolist()\n",
    "    aeu_total = (np.sqrt(np.diag(R_AEUt+R_AEUv+R_AEUp))*1e3*2).tolist()\n",
    "     \n",
    "    for axis, val in zip([\"roll\",\"pitch\",\"yaw\",\"azimuth\",\"elevation\",\"tilt\"],\n",
    "                         rpy_total + aeu_total):\n",
    "        gError[\"total_%s\" % axis] = {\"n_sigma\": 2, \"value\": val}\n",
    "    \n",
    "    return gError"
   ]
  },
  {
   "cell_type": "markdown",
   "metadata": {},
   "source": []
  },
  {
   "cell_type": "code",
   "execution_count": 10,
   "metadata": {},
   "outputs": [],
   "source": [
    "modestr = \"StandardSAR\"\n",
    "eSim = simulation(planet = venus(),\n",
    "                  e_ang = 14.28, # The effective angle of the beam relative to spacecraft coordinate frame\n",
    "                  azAxis = 5.5,  # The length of the reflector in the azimuth direction. Leads to 0.99 degrees\n",
    "                  elAxis = 0.6125,  # The length of the reflector in the elevation direction. Leads to 8.9 degrees\n",
    "                  carrier = 3.15e9,\n",
    "                  mode = mode[modestr][\"axes\"])"
   ]
  },
  {
   "cell_type": "code",
   "execution_count": 25,
   "metadata": {},
   "outputs": [
    {
     "name": "stderr",
     "output_type": "stream",
     "text": [
      "14it [04:06, 17.59s/it]\n"
     ]
    }
   ],
   "source": [
    "tags = [\"F1\", \"F6\", \"E1\", \"E6\", \"L2\", \"L6\", \"AWC\", \n",
    "        \"F1r\", \"F6r\", \"E1r\", \"E6r\", \"L2r\", \"L6r\", \"AWCr\"]\n",
    "\n",
    "for tag, off_nadir in tqdm(product(tags, mode[modestr][\"off_nadirs\"])):\n",
    "    gError = guidance(tag, off_nadir)\n",
    "    docid = \"%s_%s_%s%0.1f\" % (modestr, tag, \"p\" if off_nadir>0 else \"n\", np.abs(off_nadir))\n",
    "    resp = client.index(index=\"grounderror\", id=docid, document=gError)"
   ]
  },
  {
   "cell_type": "code",
   "execution_count": 11,
   "metadata": {},
   "outputs": [
    {
     "data": {
      "text/plain": [
       "0.0"
      ]
     },
     "execution_count": 11,
     "metadata": {},
     "output_type": "execute_result"
    }
   ],
   "source": [
    "off_nadir"
   ]
  },
  {
   "cell_type": "code",
   "execution_count": 29,
   "metadata": {},
   "outputs": [
    {
     "name": "stderr",
     "output_type": "stream",
     "text": [
      "C:\\Users\\ishuwa.sikaneta\\OneDrive - ESA\\Documents\\ESTEC\\sarsim\\radar\\orbit\\orientation.py:509: RuntimeWarning: invalid value encountered in sqrt\n",
      "  s2 = look*w*np.sqrt((1-v**2)*wwQ - (w*v*sinG)**2)/wwQ\n",
      "C:\\Users\\ishuwa.sikaneta\\OneDrive - ESA\\Documents\\ESTEC\\sarsim\\radar\\orbit\\orientation.py:510: RuntimeWarning: invalid value encountered in sqrt\n",
      "  s2F = look*wF*np.sqrt((1-v**2)*wwQ - (w*v*sinG)**2)/wwQ\n"
     ]
    },
    {
     "name": "stdout",
     "output_type": "stream",
     "text": [
      "[[nan nan nan]\n",
      " [nan nan nan]\n",
      " [nan nan nan]]\n"
     ]
    },
    {
     "ename": "LinAlgError",
     "evalue": "Array must not contain infs or NaNs",
     "output_type": "error",
     "traceback": [
      "\u001b[1;31m---------------------------------------------------------------------------\u001b[0m",
      "\u001b[1;31mLinAlgError\u001b[0m                               Traceback (most recent call last)",
      "\u001b[1;32m~\\AppData\\Local\\Temp\\ipykernel_5236\\640468570.py\u001b[0m in \u001b[0;36m<cell line: 8>\u001b[1;34m()\u001b[0m\n\u001b[0;32m      6\u001b[0m                   \u001b[0mcarrier\u001b[0m \u001b[1;33m=\u001b[0m \u001b[1;36m3.15e9\u001b[0m\u001b[1;33m,\u001b[0m\u001b[1;33m\u001b[0m\u001b[1;33m\u001b[0m\u001b[0m\n\u001b[0;32m      7\u001b[0m                   mode = mode[modestr][\"axes\"])\n\u001b[1;32m----> 8\u001b[1;33m \u001b[0mgError\u001b[0m \u001b[1;33m=\u001b[0m \u001b[0mguidance\u001b[0m\u001b[1;33m(\u001b[0m\u001b[1;34m\"AWC\"\u001b[0m\u001b[1;33m,\u001b[0m \u001b[1;36m0.000\u001b[0m\u001b[1;33m)\u001b[0m\u001b[1;33m\u001b[0m\u001b[1;33m\u001b[0m\u001b[0m\n\u001b[0m\u001b[0;32m      9\u001b[0m \u001b[0mgError\u001b[0m\u001b[1;33m\u001b[0m\u001b[1;33m\u001b[0m\u001b[0m\n",
      "\u001b[1;32m~\\AppData\\Local\\Temp\\ipykernel_5236\\2818390418.py\u001b[0m in \u001b[0;36mguidance\u001b[1;34m(tag, off_nadir)\u001b[0m\n\u001b[0;32m     19\u001b[0m \u001b[1;33m\u001b[0m\u001b[0m\n\u001b[0;32m     20\u001b[0m     \u001b[1;34m\"\"\" RPY 2-sigma values from T error ESOC \"\"\"\u001b[0m\u001b[1;33m\u001b[0m\u001b[1;33m\u001b[0m\u001b[0m\n\u001b[1;32m---> 21\u001b[1;33m     \u001b[0mR_RPYt\u001b[0m \u001b[1;33m=\u001b[0m \u001b[0meSim\u001b[0m\u001b[1;33m.\u001b[0m\u001b[0maeu2rpyCovariance\u001b[0m\u001b[1;33m(\u001b[0m\u001b[0mR_AEUt\u001b[0m\u001b[1;33m)\u001b[0m\u001b[1;33m\u001b[0m\u001b[1;33m\u001b[0m\u001b[0m\n\u001b[0m\u001b[0;32m     22\u001b[0m     contributor = {\"Source\": \"Along-track Error\",\n\u001b[0;32m     23\u001b[0m                 \u001b[1;34m\"Domain\"\u001b[0m\u001b[1;33m:\u001b[0m \u001b[1;34m\"RPY\"\u001b[0m\u001b[1;33m,\u001b[0m\u001b[1;33m\u001b[0m\u001b[1;33m\u001b[0m\u001b[0m\n",
      "\u001b[1;32m~\\OneDrive - ESA\\Documents\\ESTEC\\sarsim\\radar\\orbit\\pointing.py\u001b[0m in \u001b[0;36maeu2rpyCovariance\u001b[1;34m(self, R_AEU, N)\u001b[0m\n\u001b[0;32m    399\u001b[0m         \"\"\" Generate N 3-element vectors with covariance matrix given by\n\u001b[0;32m    400\u001b[0m             R_AEU \"\"\"\n\u001b[1;32m--> 401\u001b[1;33m         \u001b[0mAEU\u001b[0m \u001b[1;33m=\u001b[0m \u001b[0mself\u001b[0m\u001b[1;33m.\u001b[0m\u001b[0mgenerateGaussian\u001b[0m\u001b[1;33m(\u001b[0m\u001b[0mR_AEU\u001b[0m\u001b[1;33m,\u001b[0m \u001b[0mN\u001b[0m\u001b[1;33m)\u001b[0m\u001b[1;33m\u001b[0m\u001b[1;33m\u001b[0m\u001b[0m\n\u001b[0m\u001b[0;32m    402\u001b[0m \u001b[1;33m\u001b[0m\u001b[0m\n\u001b[0;32m    403\u001b[0m         \"\"\" Initialize a data set for the transformation of each of the\n",
      "\u001b[1;32m~\\OneDrive - ESA\\Documents\\ESTEC\\sarsim\\radar\\orbit\\pointing.py\u001b[0m in \u001b[0;36mgenerateGaussian\u001b[1;34m(self, R, N)\u001b[0m\n\u001b[0;32m    171\u001b[0m         \u001b[1;31m#     cD = np.zeros_like(R)\u001b[0m\u001b[1;33m\u001b[0m\u001b[1;33m\u001b[0m\u001b[0m\n\u001b[0;32m    172\u001b[0m         \u001b[1;34m\"\"\" Perform an eigenvale/eigenvector decomposition \"\"\"\u001b[0m\u001b[1;33m\u001b[0m\u001b[1;33m\u001b[0m\u001b[0m\n\u001b[1;32m--> 173\u001b[1;33m         \u001b[0mD\u001b[0m\u001b[1;33m,\u001b[0m \u001b[0mU\u001b[0m \u001b[1;33m=\u001b[0m \u001b[0mnp\u001b[0m\u001b[1;33m.\u001b[0m\u001b[0mlinalg\u001b[0m\u001b[1;33m.\u001b[0m\u001b[0meig\u001b[0m\u001b[1;33m(\u001b[0m\u001b[0mR\u001b[0m\u001b[1;33m)\u001b[0m\u001b[1;33m\u001b[0m\u001b[1;33m\u001b[0m\u001b[0m\n\u001b[0m\u001b[0;32m    174\u001b[0m         \u001b[0mcD\u001b[0m \u001b[1;33m=\u001b[0m \u001b[0mU\u001b[0m\u001b[1;33m.\u001b[0m\u001b[0mdot\u001b[0m\u001b[1;33m(\u001b[0m\u001b[0mnp\u001b[0m\u001b[1;33m.\u001b[0m\u001b[0mdiag\u001b[0m\u001b[1;33m(\u001b[0m\u001b[0mnp\u001b[0m\u001b[1;33m.\u001b[0m\u001b[0msqrt\u001b[0m\u001b[1;33m(\u001b[0m\u001b[0mnp\u001b[0m\u001b[1;33m.\u001b[0m\u001b[0mabs\u001b[0m\u001b[1;33m(\u001b[0m\u001b[0mD\u001b[0m\u001b[1;33m)\u001b[0m\u001b[1;33m)\u001b[0m\u001b[1;33m)\u001b[0m\u001b[1;33m)\u001b[0m\u001b[1;33m\u001b[0m\u001b[1;33m\u001b[0m\u001b[0m\n\u001b[0;32m    175\u001b[0m \u001b[1;33m\u001b[0m\u001b[0m\n",
      "\u001b[1;32mc:\\Users\\ishuwa.sikaneta\\Anaconda3\\envs\\esa\\lib\\site-packages\\numpy\\core\\overrides.py\u001b[0m in \u001b[0;36meig\u001b[1;34m(*args, **kwargs)\u001b[0m\n",
      "\u001b[1;32mc:\\Users\\ishuwa.sikaneta\\Anaconda3\\envs\\esa\\lib\\site-packages\\numpy\\linalg\\linalg.py\u001b[0m in \u001b[0;36meig\u001b[1;34m(a)\u001b[0m\n\u001b[0;32m   1303\u001b[0m     \u001b[0m_assert_stacked_2d\u001b[0m\u001b[1;33m(\u001b[0m\u001b[0ma\u001b[0m\u001b[1;33m)\u001b[0m\u001b[1;33m\u001b[0m\u001b[1;33m\u001b[0m\u001b[0m\n\u001b[0;32m   1304\u001b[0m     \u001b[0m_assert_stacked_square\u001b[0m\u001b[1;33m(\u001b[0m\u001b[0ma\u001b[0m\u001b[1;33m)\u001b[0m\u001b[1;33m\u001b[0m\u001b[1;33m\u001b[0m\u001b[0m\n\u001b[1;32m-> 1305\u001b[1;33m     \u001b[0m_assert_finite\u001b[0m\u001b[1;33m(\u001b[0m\u001b[0ma\u001b[0m\u001b[1;33m)\u001b[0m\u001b[1;33m\u001b[0m\u001b[1;33m\u001b[0m\u001b[0m\n\u001b[0m\u001b[0;32m   1306\u001b[0m     \u001b[0mt\u001b[0m\u001b[1;33m,\u001b[0m \u001b[0mresult_t\u001b[0m \u001b[1;33m=\u001b[0m \u001b[0m_commonType\u001b[0m\u001b[1;33m(\u001b[0m\u001b[0ma\u001b[0m\u001b[1;33m)\u001b[0m\u001b[1;33m\u001b[0m\u001b[1;33m\u001b[0m\u001b[0m\n\u001b[0;32m   1307\u001b[0m \u001b[1;33m\u001b[0m\u001b[0m\n",
      "\u001b[1;32mc:\\Users\\ishuwa.sikaneta\\Anaconda3\\envs\\esa\\lib\\site-packages\\numpy\\linalg\\linalg.py\u001b[0m in \u001b[0;36m_assert_finite\u001b[1;34m(*arrays)\u001b[0m\n\u001b[0;32m    206\u001b[0m     \u001b[1;32mfor\u001b[0m \u001b[0ma\u001b[0m \u001b[1;32min\u001b[0m \u001b[0marrays\u001b[0m\u001b[1;33m:\u001b[0m\u001b[1;33m\u001b[0m\u001b[1;33m\u001b[0m\u001b[0m\n\u001b[0;32m    207\u001b[0m         \u001b[1;32mif\u001b[0m \u001b[1;32mnot\u001b[0m \u001b[0misfinite\u001b[0m\u001b[1;33m(\u001b[0m\u001b[0ma\u001b[0m\u001b[1;33m)\u001b[0m\u001b[1;33m.\u001b[0m\u001b[0mall\u001b[0m\u001b[1;33m(\u001b[0m\u001b[1;33m)\u001b[0m\u001b[1;33m:\u001b[0m\u001b[1;33m\u001b[0m\u001b[1;33m\u001b[0m\u001b[0m\n\u001b[1;32m--> 208\u001b[1;33m             \u001b[1;32mraise\u001b[0m \u001b[0mLinAlgError\u001b[0m\u001b[1;33m(\u001b[0m\u001b[1;34m\"Array must not contain infs or NaNs\"\u001b[0m\u001b[1;33m)\u001b[0m\u001b[1;33m\u001b[0m\u001b[1;33m\u001b[0m\u001b[0m\n\u001b[0m\u001b[0;32m    209\u001b[0m \u001b[1;33m\u001b[0m\u001b[0m\n\u001b[0;32m    210\u001b[0m \u001b[1;32mdef\u001b[0m \u001b[0m_is_empty_2d\u001b[0m\u001b[1;33m(\u001b[0m\u001b[0marr\u001b[0m\u001b[1;33m)\u001b[0m\u001b[1;33m:\u001b[0m\u001b[1;33m\u001b[0m\u001b[1;33m\u001b[0m\u001b[0m\n",
      "\u001b[1;31mLinAlgError\u001b[0m: Array must not contain infs or NaNs"
     ]
    }
   ],
   "source": [
    "modestr = \"Altimeter\"\n",
    "eSim = simulation(planet = venus(),\n",
    "                  e_ang = 14.28, # The effective angle of the beam relative to spacecraft coordinate frame\n",
    "                  azAxis = 5.5,  # The length of the reflector in the azimuth direction. Leads to 0.99 degrees\n",
    "                  elAxis = 0.6125,  # The length of the reflector in the elevation direction. Leads to 8.9 degrees\n",
    "                  carrier = 3.15e9,\n",
    "                  mode = mode[modestr][\"axes\"])\n",
    "gError = guidance(\"AWC\", 0.000)\n",
    "gError"
   ]
  },
  {
   "cell_type": "code",
   "execution_count": 27,
   "metadata": {},
   "outputs": [],
   "source": [
    "R_TCNt, R_TCNp, R_TCNv = guidanceCovariance(\"AWC\")"
   ]
  },
  {
   "cell_type": "code",
   "execution_count": 28,
   "metadata": {},
   "outputs": [
    {
     "data": {
      "text/plain": [
       "array([[5.48840635e-11, 0.00000000e+00],\n",
       "       [0.00000000e+00, 4.91449668e+00]])"
      ]
     },
     "execution_count": 28,
     "metadata": {},
     "output_type": "execute_result"
    }
   ],
   "source": [
    "R_TCNp"
   ]
  },
  {
   "cell_type": "code",
   "execution_count": null,
   "metadata": {},
   "outputs": [],
   "source": []
  }
 ],
 "metadata": {
  "kernelspec": {
   "display_name": "Python 3 (ipykernel)",
   "language": "python",
   "name": "python3"
  },
  "language_info": {
   "codemirror_mode": {
    "name": "ipython",
    "version": 3
   },
   "file_extension": ".py",
   "mimetype": "text/x-python",
   "name": "python",
   "nbconvert_exporter": "python",
   "pygments_lexer": "ipython3",
   "version": "3.11.6"
  },
  "vscode": {
   "interpreter": {
    "hash": "d2dff60ad268218bec0b9fb31034b1ecd1755601a6917604c9f90765041dd608"
   }
  }
 },
 "nbformat": 4,
 "nbformat_minor": 4
}
