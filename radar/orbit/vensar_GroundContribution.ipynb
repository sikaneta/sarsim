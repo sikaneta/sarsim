{
 "cells": [
  {
   "cell_type": "code",
   "execution_count": 1,
   "metadata": {},
   "outputs": [],
   "source": [
    "from space.planets import venus\n",
    "from orbit.pointing import simulation\n",
    "from orbit.geometry import getTiming\n",
    "from orbit.envision import loadSV\n",
    "from orbit.elasticOrbit import getSVFromTime, client\n",
    "from TCNerror import guidanceCovariance, getOrbitCovariances\n",
    "from measurement.measurement import state_vector\n",
    "from itertools import product\n",
    "\n",
    "\"\"\" System Packages \"\"\"\n",
    "from tqdm import tqdm\n",
    "import numpy as np\n",
    "import matplotlib.pyplot as plt\n",
    "import json\n",
    "from datetime import datetime as dt\n",
    "import os"
   ]
  },
  {
   "cell_type": "code",
   "execution_count": 2,
   "metadata": {},
   "outputs": [],
   "source": [
    "sim_folder = os.path.join(r\"C:\\Users\",\n",
    "                          r\"ishuwa.sikaneta\",\n",
    "                          r\"OneDrive - ESA\",\n",
    "                          r\"Documents\",\n",
    "                          r\"ESTEC\",\n",
    "                          r\"Envision\",\n",
    "                          r\"PointingSimulations\")"
   ]
  },
  {
   "attachments": {},
   "cell_type": "markdown",
   "metadata": {},
   "source": [
    "# Simulate Pointing Errors\n",
    "\n",
    "The following class simulates pointing errors for an Envision-type SAR"
   ]
  },
  {
   "cell_type": "code",
   "execution_count": 14,
   "metadata": {},
   "outputs": [],
   "source": [
    "mode = {\n",
    "    \"VenSAR\": np.eye(3),\n",
    "    \"Altimeter\": np.array([[0,1,0],[1,0,0],[0,0,1]])\n",
    "}\n",
    "modestr = \"Altimeter\"\n",
    "eSim = simulation(planet = venus(),\n",
    "                  e_ang = 14.28, # The effective angle of the beam relative to spacecraft coordinate frame\n",
    "                  azAxis = 5.5,  # The length of the refelector in the azimuth direction. Leads to 0.99 degrees\n",
    "                  elAxis = 0.6125,  # The length of the reflector in the elevation direction. Leads to 8.9 degrees\n",
    "                  carrier = 3.15e9,\n",
    "                  mode = mode[modestr])"
   ]
  },
  {
   "attachments": {},
   "cell_type": "markdown",
   "metadata": {},
   "source": [
    "### Define Covariances\n",
    "\n",
    "Define the set of input covariance matrices for the simulation. These are calculated using the guidanceCovariance function"
   ]
  },
  {
   "cell_type": "code",
   "execution_count": 15,
   "metadata": {},
   "outputs": [],
   "source": [
    "def guidance(tag, off_nadir):\n",
    "    gError = {\"Scenario\": getOrbitCovariances(tag),\n",
    "            \"off_nadir\": off_nadir,\n",
    "            \"mode\": modestr, \n",
    "            \"contributors\": []}\n",
    "    sv = getSVFromTime(gError[\"Scenario\"][\"UTC_time\"], frame=\"VME2000\")\n",
    "    X = sv.measurementData[0]\n",
    "    rng, _, inc, _, _ = getTiming(sv, [np.radians(off_nadir)])\n",
    "    gError[\"range\"] = rng[0]\n",
    "    gError[\"incidence\"] = inc[0]\n",
    "\n",
    "\n",
    "    R_TCNt, R_TCNp, R_TCNv = guidanceCovariance(tag)\n",
    "    R_AEUt = eSim.timing2aeuCovariance(X, off_nadir, R_TCNt)\n",
    "    R_AEUp = eSim.xtrackOffset2aeuCovarianceTCN(X, off_nadir, R_TCNp)\n",
    "    R_AEUv = eSim.velocity2aeuCovariance(X, off_nadir, R_TCNv)\n",
    "\n",
    "\n",
    "    \"\"\" RPY 2-sigma values from T error ESOC \"\"\"\n",
    "    R_RPYt = eSim.aeu2rpyCovariance(R_AEUt)\n",
    "    contributor = {\"Source\": \"Along-track Error\",\n",
    "                \"Domain\": \"RPY\",\n",
    "                \"n_sigma\": 2,\n",
    "                \"values\": (np.sqrt(np.diag(R_RPYt))*1e3*2).tolist()}\n",
    "    gError[\"contributors\"].append(contributor)\n",
    "\n",
    "    \"\"\" RPY 2-sigma values from velocity errors ESOC \"\"\"\n",
    "    R_RPYv = eSim.aeu2rpyCovariance(R_AEUv)\n",
    "    contributor = {\"Source\": \"TCN Velocity Error\",\n",
    "                \"Domain\": \"RPY\",\n",
    "                \"n_sigma\": 2,\n",
    "                \"values\": (np.sqrt(np.diag(R_RPYv))*1e3*2).tolist()}\n",
    "    gError[\"contributors\"].append(contributor)\n",
    "\n",
    "    \"\"\" RPY 2-sigma values from across-track and radial errors ESOC \"\"\"\n",
    "    R_RPYp = eSim.aeu2rpyCovariance(np.diag([0.0, R_AEUp, 0.0]))\n",
    "    contributor = {\"Source\": \"TCN Across-Track Error\",\n",
    "                \"Domain\": \"RPY\",\n",
    "                \"n_sigma\": 2,\n",
    "                \"values\": (np.sqrt(np.diag(R_RPYp))*1e3*2).tolist()}\n",
    "    gError[\"contributors\"].append(contributor)\n",
    "\n",
    "    \"\"\" Total in the RPY domain \"\"\"\n",
    "    rpy_total = (np.sqrt(np.diag(R_RPYt+R_RPYv+R_RPYp))*1e3*2).tolist()\n",
    "    aeu_total = (np.sqrt(np.diag(R_AEUt+R_AEUv+R_AEUp))*1e3*2).tolist()\n",
    "     \n",
    "    for axis, val in zip([\"roll\",\"pitch\",\"yaw\",\"azimuth\",\"elevation\",\"tilt\"],\n",
    "                         rpy_total + aeu_total):\n",
    "        gError[\"total_%s\" % axis] = {\"n_sigma\": 2, \"value\": val}\n",
    "    \n",
    "    return gError"
   ]
  },
  {
   "cell_type": "markdown",
   "metadata": {},
   "source": []
  },
  {
   "cell_type": "code",
   "execution_count": 7,
   "metadata": {},
   "outputs": [
    {
     "name": "stderr",
     "output_type": "stream",
     "text": [
      "0it [00:00, ?it/s]"
     ]
    },
    {
     "name": "stderr",
     "output_type": "stream",
     "text": [
      "42it [10:41, 15.28s/it]\n"
     ]
    }
   ],
   "source": [
    "tags = [\"F1r\", \"F6r\", \"E1r\", \"E6r\", \"L2r\", \"L6r\", \"AWCr\"]\n",
    "off_nadirs = [18.7, 27.8, 36.9, -18.7, -27.8, -36.9]\n",
    "for tag, off_nadir in tqdm(product(tags, off_nadirs)):\n",
    "    gError = guidance(tag, off_nadir)\n",
    "    docid = \"%s_%s%0.1f\" % (tag, \"p\" if off_nadir>0 else \"n\", np.abs(off_nadir))\n",
    "    resp = client.index(index=\"grounderror\", id=docid, document=gError)"
   ]
  },
  {
   "cell_type": "code",
   "execution_count": 17,
   "metadata": {},
   "outputs": [
    {
     "data": {
      "text/plain": [
       "{'Scenario': {'tag': 'F1',\n",
       "  'ndays': 2,\n",
       "  'UTC_time': '2035-06-30T00:00:00',\n",
       "  'Tpos_error': {'n_sigma': 3, 'unit': 'm', 'value': 5133.0},\n",
       "  'Cpos_error': {'n_sigma': 3, 'unit': 'm', 'value': 28.0},\n",
       "  'Npos_error': {'n_sigma': 3, 'unit': 'm', 'value': 71.0},\n",
       "  'Tvel_error': {'n_sigma': 3, 'unit': 'm/s', 'value': 0.142},\n",
       "  'Cvel_error': {'n_sigma': 3, 'unit': 'm/s', 'value': 0.031},\n",
       "  'Nvel_error': {'n_sigma': 3, 'unit': 'm/s', 'value': 5.808}},\n",
       " 'off_nadir': 0.007,\n",
       " 'mode': 'Altimeter',\n",
       " 'contributors': [{'Source': 'Along-track Error',\n",
       "   'Domain': 'RPY',\n",
       "   'n_sigma': 2,\n",
       "   'values': [0.5347895322668269,\n",
       "    9.38199298827275e-05,\n",
       "    0.0001075217182712475]},\n",
       "  {'Source': 'TCN Velocity Error',\n",
       "   'Domain': 'RPY',\n",
       "   'n_sigma': 2,\n",
       "   'values': [0.03752268806760423,\n",
       "    0.000897610031510783,\n",
       "    0.0037596469903352033]},\n",
       "  {'Source': 'TCN Across-Track Error',\n",
       "   'Domain': 'RPY',\n",
       "   'n_sigma': 2,\n",
       "   'values': [0.0029541126366632157, 0.0, 0.0]}],\n",
       " 'range': 272129.68483165215,\n",
       " 'incidence': 0.725536004757904,\n",
       " 'total_roll': {'n_sigma': 2, 'value': 0.5361124161250701},\n",
       " 'total_pitch': {'n_sigma': 2, 'value': 0.0009024998326382053},\n",
       " 'total_yaw': {'n_sigma': 2, 'value': 0.003761184176803438},\n",
       " 'total_azimuth': {'n_sigma': 2, 'value': 0.002954649403732845},\n",
       " 'total_elevation': {'n_sigma': 2, 'value': 0.5385357607291321},\n",
       " 'total_tilt': {'n_sigma': 2, 'value': 0.004858836358491741}}"
      ]
     },
     "execution_count": 17,
     "metadata": {},
     "output_type": "execute_result"
    }
   ],
   "source": [
    "gError = guidance(\"F1\", 0.007)\n",
    "gError"
   ]
  },
  {
   "cell_type": "code",
   "execution_count": 27,
   "metadata": {},
   "outputs": [],
   "source": [
    "R_TCNt, R_TCNp, R_TCNv = guidanceCovariance(\"AWC\")"
   ]
  },
  {
   "cell_type": "code",
   "execution_count": 28,
   "metadata": {},
   "outputs": [
    {
     "data": {
      "text/plain": [
       "array([[5.48840635e-11, 0.00000000e+00],\n",
       "       [0.00000000e+00, 4.91449668e+00]])"
      ]
     },
     "execution_count": 28,
     "metadata": {},
     "output_type": "execute_result"
    }
   ],
   "source": [
    "R_TCNp"
   ]
  },
  {
   "cell_type": "code",
   "execution_count": null,
   "metadata": {},
   "outputs": [],
   "source": []
  }
 ],
 "metadata": {
  "kernelspec": {
   "display_name": "Python 3 (ipykernel)",
   "language": "python",
   "name": "python3"
  },
  "language_info": {
   "codemirror_mode": {
    "name": "ipython",
    "version": 3
   },
   "file_extension": ".py",
   "mimetype": "text/x-python",
   "name": "python",
   "nbconvert_exporter": "python",
   "pygments_lexer": "ipython3",
   "version": "3.10.12"
  },
  "vscode": {
   "interpreter": {
    "hash": "d2dff60ad268218bec0b9fb31034b1ecd1755601a6917604c9f90765041dd608"
   }
  }
 },
 "nbformat": 4,
 "nbformat_minor": 4
}
