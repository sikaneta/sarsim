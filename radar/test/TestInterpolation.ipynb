{
 "cells": [
  {
   "cell_type": "code",
   "execution_count": 1,
   "metadata": {},
   "outputs": [],
   "source": [
    "import configuration.configuration as cfg\n",
    "import numpy as np\n",
    "import omegak.omegak as wk\n",
    "import matplotlib.pyplot as plt\n",
    "import numpy as np"
   ]
  },
  {
   "cell_type": "code",
   "execution_count": 84,
   "metadata": {},
   "outputs": [],
   "source": [
    "X = np.matlib.repmat(np.sin(np.pi/2*np.arange(0,200,0.1))*np.exp(-1j*np.pi/2*np.arange(0,200,0.1)), 1000, 1).T"
   ]
  },
  {
   "cell_type": "code",
   "execution_count": 85,
   "metadata": {},
   "outputs": [
    {
     "data": {
      "text/plain": [
       "(2000, 1000)"
      ]
     },
     "execution_count": 85,
     "metadata": {},
     "output_type": "execute_result"
    }
   ],
   "source": [
    "X.shape"
   ]
  },
  {
   "cell_type": "code",
   "execution_count": 86,
   "metadata": {},
   "outputs": [
    {
     "data": {
      "image/png": "[encoded data removed]",
      "text/plain": [
       "<matplotlib.figure.Figure at 0x7f5121a81fd0>"
      ]
     },
     "metadata": {},
     "output_type": "display_data"
    }
   ],
   "source": [
    "plt.imshow(np.abs(X[0:100]))\n",
    "plt.show()"
   ]
  },
  {
   "cell_type": "code",
   "execution_count": 87,
   "metadata": {},
   "outputs": [
    {
     "data": {
      "text/plain": [
       "array([ 0.011764  ,  0.50512856])"
      ]
     },
     "execution_count": 87,
     "metadata": {},
     "output_type": "execute_result"
    }
   ],
   "source": [
    "np.random.rand(2)"
   ]
  },
  {
   "cell_type": "code",
   "execution_count": 88,
   "metadata": {},
   "outputs": [
    {
     "data": {
      "text/plain": [
       "array([[ 0.26065769,  0.26065769,  0.26065769,  0.26065769,  0.26065769],\n",
       "       [ 1.71610132,  1.71610132,  1.71610132,  1.71610132,  1.71610132],\n",
       "       [ 2.11643028,  2.11643028,  2.11643028,  2.11643028,  2.11643028],\n",
       "       [ 3.57234266,  3.57234266,  3.57234266,  3.57234266,  3.57234266],\n",
       "       [ 4.1376463 ,  4.1376463 ,  4.1376463 ,  4.1376463 ,  4.1376463 ]])"
      ]
     },
     "execution_count": 88,
     "metadata": {},
     "output_type": "execute_result"
    }
   ],
   "source": [
    "newIdx = np.matlib.repmat(np.arange(2000) + np.random.rand(2000), 1000,1).T\n",
    "newIdx[0:5,0:5]"
   ]
  },
  {
   "cell_type": "code",
   "execution_count": 89,
   "metadata": {},
   "outputs": [],
   "source": [
    "# First compute the FFT\n",
    "(rows, cols) = X.shape\n",
    "oversample = 8\n",
    "\n",
    "# Switch to frequency domain and zero pad to oversample by oversample factor\n",
    "YY = np.zeros((rows*oversample, cols), dtype=np.complex64)\n",
    "idx0 = np.round(cfg.FFT_freq(rows,rows,0)).astype('int')\n",
    "YY[idx0,:] = np.fft.fft(X, axis=0)\n",
    "Y = np.fft.ifft(YY, axis=0)*oversample\n",
    "(rowsY, cols) = Y.shape"
   ]
  },
  {
   "cell_type": "code",
   "execution_count": 90,
   "metadata": {},
   "outputs": [
    {
     "data": {
      "image/png": "[encoded data removed]",
      "text/plain": [
       "<matplotlib.figure.Figure at 0x7f5119966890>"
      ]
     },
     "metadata": {},
     "output_type": "display_data"
    }
   ],
   "source": [
    "plt.plot(np.abs(YY[:,1]))\n",
    "plt.show()"
   ]
  },
  {
   "cell_type": "code",
   "execution_count": 91,
   "metadata": {},
   "outputs": [
    {
     "data": {
      "image/png": "[encoded data removed]",
      "text/plain": [
       "<matplotlib.figure.Figure at 0x7f5119956150>"
      ]
     },
     "metadata": {},
     "output_type": "display_data"
    }
   ],
   "source": [
    "plt.plot(8*np.arange(10), np.abs(X[0:10,20]))\n",
    "plt.plot(8*np.arange(10), np.abs(X[0:10,20]),'x')\n",
    "plt.plot(np.arange(80), np.abs(Y[0:(8*10),20]),'o')\n",
    "plt.show()"
   ]
  },
  {
   "cell_type": "code",
   "execution_count": 92,
   "metadata": {},
   "outputs": [],
   "source": [
    "interpData = wk.interpolateCxInt(X, newIdx, 8)"
   ]
  },
  {
   "cell_type": "code",
   "execution_count": 93,
   "metadata": {},
   "outputs": [
    {
     "data": {
      "text/plain": [
       "array([[ 0.04089549-0.00170541j,  0.04089549-0.00170541j,\n",
       "         0.04089549-0.00170541j,  0.04089549-0.00170541j,\n",
       "         0.04089549-0.00170541j],\n",
       "       [ 0.25665570-0.07098757j,  0.25665570-0.07098757j,\n",
       "         0.25665570-0.07098757j,  0.25665570-0.07098757j,\n",
       "         0.25665570-0.07098757j],\n",
       "       [ 0.30847375-0.10652912j,  0.30847375-0.10652912j,\n",
       "         0.30847375-0.10652912j,  0.30847375-0.10652912j,\n",
       "         0.30847375-0.10652912j],\n",
       "       [ 0.45046211-0.28322844j,  0.45046211-0.28322844j,\n",
       "         0.45046211-0.28322844j,  0.45046211-0.28322844j,\n",
       "         0.45046211-0.28322844j],\n",
       "       [ 0.48172915-0.36620176j,  0.48172915-0.36620176j,\n",
       "         0.48172915-0.36620176j,  0.48172915-0.36620176j,\n",
       "         0.48172915-0.36620176j]])"
      ]
     },
     "execution_count": 93,
     "metadata": {},
     "output_type": "execute_result"
    }
   ],
   "source": [
    "interpData[0:5,0:5]"
   ]
  },
  {
   "cell_type": "code",
   "execution_count": 95,
   "metadata": {},
   "outputs": [
    {
     "data": {
      "image/png": "[encoded data removed]",
      "text/plain": [
       "<matplotlib.figure.Figure at 0x7f5121ba09d0>"
      ]
     },
     "metadata": {},
     "output_type": "display_data"
    }
   ],
   "source": [
    "plt.plot(np.arange(40), np.real(X[0:40,0]),'.')\n",
    "plt.plot(newIdx[0:40,:], np.real(interpData[0:40,0]),'go')\n",
    "plt.show()"
   ]
  },
  {
   "cell_type": "code",
   "execution_count": 96,
   "metadata": {},
   "outputs": [
    {
     "data": {
      "image/png": "[encoded data removed]",
      "text/plain": [
       "<matplotlib.figure.Figure at 0x7f5121ba0e50>"
      ]
     },
     "metadata": {},
     "output_type": "display_data"
    }
   ],
   "source": [
    "plt.plot(np.arange(40), np.imag(X[0:40,0]),'.')\n",
    "plt.plot(newIdx[0:40,:], np.imag(interpData[0:40,0]),'go')\n",
    "plt.show()"
   ]
  },
  {
   "cell_type": "code",
   "execution_count": null,
   "metadata": {},
   "outputs": [],
   "source": []
  }
 ],
 "metadata": {
  "kernelspec": {
   "display_name": "Python 2",
   "language": "python",
   "name": "python2"
  },
  "language_info": {
   "codemirror_mode": {
    "name": "ipython",
    "version": 2
   },
   "file_extension": ".py",
   "mimetype": "text/x-python",
   "name": "python",
   "nbconvert_exporter": "python",
   "pygments_lexer": "ipython2",
   "version": "2.7.15rc1"
  }
 },
 "nbformat": 4,
 "nbformat_minor": 2
}
