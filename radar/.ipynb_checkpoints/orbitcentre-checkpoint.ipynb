{
 "cells": [
  {
   "cell_type": "markdown",
   "metadata": {},
   "source": [
    "# Centre of a satellite orbit"
   ]
  },
  {
   "cell_type": "code",
   "execution_count": 3,
   "metadata": {},
   "outputs": [],
   "source": [
    "import numpy as np\n",
    "import numpy.matlib as npmat\n",
    "import sys\n",
    "import datetime\n",
    "sys.path.append('/home/ishuwa_tinda/local/src/Python/radar')\n",
    "import matplotlib.pyplot as plt\n",
    "from measurement.measurement import state_vector_ESAEOD"
   ]
  },
  {
   "cell_type": "markdown",
   "metadata": {},
   "source": [
    "## Create a state vector object"
   ]
  },
  {
   "cell_type": "code",
   "execution_count": 5,
   "metadata": {},
   "outputs": [],
   "source": [
    "orbit_file = \"/home/ishuwa/local/src/Python/radar/orbit/S1B_OPER_AUX_POEORB_OPOD_20180825T110641_V20180804T225942_20180806T005942.EOF\"\n",
    "sv = state_vector_ESAEOD()\n",
    "start_date = datetime.datetime(2018,8,4,23,0,2)\n",
    "end_date = datetime.datetime(2018,8,4,23,1,2)\n",
    "svecs = sv.readStateVectors(orbit_file, start_date, end_date)"
   ]
  },
  {
   "cell_type": "code",
   "execution_count": 10,
   "metadata": {},
   "outputs": [],
   "source": [
    "s_vectors = sv.measurementData"
   ]
  },
  {
   "cell_type": "code",
   "execution_count": 55,
   "metadata": {},
   "outputs": [],
   "source": [
    "A = np.array([sv.satEQM(x, 0.0)[3:] for x in s_vectors]).T\n",
    "R = (np.array(s_vectors).T)[0:3,:]\n",
    "V = (np.array(s_vectors).T)[3:,:]"
   ]
  },
  {
   "cell_type": "code",
   "execution_count": 56,
   "metadata": {},
   "outputs": [
    {
     "data": {
      "text/plain": [
       "array([[ -577398.508853,  -552683.859382,  -527980.819268,  -503292.991937,\n",
       "         -478623.970311],\n",
       "       [ 4947574.657982,  4897649.682902,  4847142.650836,  4796059.255773,\n",
       "         4744405.260122],\n",
       "       [-5033185.646195, -5084568.932062, -5135381.160956, -5185616.671903,\n",
       "        -5235269.869399]])"
      ]
     },
     "execution_count": 56,
     "metadata": {},
     "output_type": "execute_result"
    }
   ],
   "source": [
    "R"
   ]
  },
  {
   "cell_type": "code",
   "execution_count": 57,
   "metadata": {},
   "outputs": [
    {
     "data": {
      "text/plain": [
       "array([[ 2471.925047,  2470.94462 ,  2469.603342,  2467.902239,\n",
       "         2465.842385],\n",
       "       [-4963.206578, -5021.694678, -5079.616823, -5136.966137,\n",
       "        -5193.735812],\n",
       "       [-5166.691106, -5109.870625, -5052.480793, -4994.528128,\n",
       "        -4936.019205]])"
      ]
     },
     "execution_count": 57,
     "metadata": {},
     "output_type": "execute_result"
    }
   ],
   "source": [
    "V"
   ]
  },
  {
   "cell_type": "code",
   "execution_count": 58,
   "metadata": {},
   "outputs": [
    {
     "data": {
      "text/plain": [
       "array([[-0.07996622, -0.11610086, -0.1521355 , -0.18806513, -0.22388474],\n",
       "       [-5.87687678, -5.8206273 , -5.76368685, -5.70606218, -5.64776011],\n",
       "       [ 5.65336425,  5.71062309,  5.76723329,  5.82318882,  5.87848375]])"
      ]
     },
     "execution_count": 58,
     "metadata": {},
     "output_type": "execute_result"
    }
   ],
   "source": [
    "A"
   ]
  },
  {
   "cell_type": "code",
   "execution_count": 59,
   "metadata": {},
   "outputs": [],
   "source": [
    "a = A.dot(np.diag(np.sqrt(1.0/np.sum(A*A, axis=0))))"
   ]
  },
  {
   "cell_type": "code",
   "execution_count": 60,
   "metadata": {},
   "outputs": [],
   "source": [
    "(dummy, N) = a.shape"
   ]
  },
  {
   "cell_type": "code",
   "execution_count": 74,
   "metadata": {},
   "outputs": [
    {
     "name": "stdout",
     "output_type": "stream",
     "text": [
      "[-0.01864259 -0.70668224  0.70712078]\n",
      "[ -2639980.149751  24232831.507615 -25674022.280515]\n",
      "[   656936.55954858  24902403.99675233 -24917857.48225086]\n",
      "[[   0.49849188   11.3148909   -11.32191249]\n",
      " [  11.3148909   429.1120162  -429.1781827 ]\n",
      " [ -11.32191249 -429.1781827   429.64451436]]\n",
      "[[ 4.99826227 -0.06587195  0.06591283]\n",
      " [-0.06587195  2.50300106  2.49854848]\n",
      " [ 0.06591283  2.49854848  2.49990101]]\n",
      "[[   0.49849188   11.3148909   -11.32191249]\n",
      " [  11.3148909   429.1120162  -429.1781827 ]\n",
      " [ -11.32191249 -429.1781827   429.64451436]]\n",
      "[-658394.21302266  -96419.72675395 -188750.99855614]\n"
     ]
    }
   ],
   "source": [
    "v = np.sum(a, axis=1)\n",
    "r = np.sum(R, axis=1)\n",
    "rv = np.sum(np.sum(R*a))\n",
    "y = r - rv*v/N\n",
    "M = (np.eye(3)  + np.outer(v,v)/(N**2-np.inner(v,v)))/N\n",
    "RMtx = N*np.eye(3) - 1.0/N*np.outer(v,v)\n",
    "print v/N\n",
    "print r\n",
    "print rv*v/N\n",
    "print M\n",
    "print RMtx\n",
    "print np.linalg.inv(RMtx)\n",
    "c = M.dot(y)\n",
    "print c"
   ]
  },
  {
   "cell_type": "code",
   "execution_count": 70,
   "metadata": {},
   "outputs": [],
   "source": [
    "## Check the total error"
   ]
  },
  {
   "cell_type": "code",
   "execution_count": 73,
   "metadata": {},
   "outputs": [
    {
     "name": "stdout",
     "output_type": "stream",
     "text": [
      "2.50728431436e+14\n",
      "2.48350015208e+14\n",
      "2.37795773941e+12\n",
      "458488678.492\n"
     ]
    }
   ],
   "source": [
    "print np.sum(R*R)\n",
    "print rv*rv/N\n",
    "print (y.T).dot(M.dot(y))\n",
    "print np.sum(np.sum(R*R)) - rv*rv/N - (y.T).dot(M.dot(y))"
   ]
  },
  {
   "cell_type": "code",
   "execution_count": 72,
   "metadata": {},
   "outputs": [
    {
     "name": "stdout",
     "output_type": "stream",
     "text": [
      "[ 7081302.26606623  7081332.71988695  7081362.53071188  7081391.705628\n",
      "  7081420.25180448]\n"
     ]
    }
   ],
   "source": [
    "print np.sqrt(np.sum(R*R, axis=0))"
   ]
  },
  {
   "cell_type": "code",
   "execution_count": 78,
   "metadata": {},
   "outputs": [
    {
     "name": "stdout",
     "output_type": "stream",
     "text": [
      "[[ -577398.508853  -552683.859382  -527980.819268  -503292.991937\n",
      "   -478623.970311]\n",
      " [ 4947574.657982  4897649.682902  4847142.650836  4796059.255773\n",
      "   4744405.260122]\n",
      " [-5033185.646195 -5084568.932062 -5135381.160956 -5185616.671903\n",
      "  -5235269.869399]]\n",
      "[ 6994067.96596842  6994350.37622264  6994638.41795682  6994931.98971387\n",
      "  6995230.99028905]\n"
     ]
    }
   ],
   "source": [
    "C = np.matlib.repmat(c,5,1).T\n",
    "print R\n",
    "print np.sqrt(np.sum((R-C)*(R-C), axis=0))"
   ]
  },
  {
   "cell_type": "code",
   "execution_count": null,
   "metadata": {},
   "outputs": [],
   "source": []
  }
 ],
 "metadata": {
  "kernelspec": {
   "display_name": "Python 2",
   "language": "python",
   "name": "python2"
  },
  "language_info": {
   "codemirror_mode": {
    "name": "ipython",
    "version": 2
   },
   "file_extension": ".py",
   "mimetype": "text/x-python",
   "name": "python",
   "nbconvert_exporter": "python",
   "pygments_lexer": "ipython2",
   "version": "2.7.15rc1"
  }
 },
 "nbformat": 4,
 "nbformat_minor": 2
}
