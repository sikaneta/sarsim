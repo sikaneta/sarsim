{
 "cells": [
  {
   "cell_type": "code",
   "execution_count": 1,
   "metadata": {},
   "outputs": [],
   "source": [
    "\"\"\"\n",
    "Created on Fri Aug 23 13:02:31 2019\n",
    "\n",
    "@author: ishuwa\n",
    "\"\"\"\n",
    "\n",
    "import configuration.configuration as cfg\n",
    "import numpy as np\n",
    "import matplotlib.pyplot as plt\n",
    "from measurement.measurement import state_vector\n",
    "from measurement.arclength import slow\n",
    "import argparse\n",
    "from measurement.measurement import state_vector\n",
    "import os\n",
    "import omegak.omegak as wk"
   ]
  },
  {
   "cell_type": "code",
   "execution_count": null,
   "metadata": {},
   "outputs": [],
   "source": [
    "#%% Use the argparse library\n",
    "default_simulation_file = os.path.sep.join([os.environ[\"HOME\"],\n",
    "                                            \"simulation\",\n",
    "                                            \"1m\",\n",
    "                                            \"1m_simulation.xml\"])\n",
    "class fake_parse:\n",
    "    def __init__(self,\n",
    "                 xml_file = default_simulation_file,\n",
    "                 az_resolution = 1.0,\n",
    "                 rn_resolution = 1.0,\n",
    "                 swath_width = 10000.0,\n",
    "                 rn_oversample = 1.5,\n",
    "                 az_oversample = 1.5,\n",
    "                 pulse_duration = 20.5,\n",
    "                 max_antenna_length = 25.0,\n",
    "                 file_data_domain = \"rx\"):\n",
    "        self.xml_file = xml_file\n",
    "        self.az_resolution = az_resolution\n",
    "        self.rn_resolution = rn_resolution\n",
    "        self.swath_width = swath_width\n",
    "        self.rn_oversample = rn_oversample\n",
    "        self.az_oversample = az_oversample\n",
    "        self.pulse_duration = pulse_duration\n",
    "        self.max_antenna_length = max_antenna_length\n",
    "        self.file_data_domain = file_data_domain\n",
    "    "
   ]
  }
 ],
 "metadata": {
  "kernelspec": {
   "display_name": "Python 3",
   "language": "python",
   "name": "python3"
  },
  "language_info": {
   "codemirror_mode": {
    "name": "ipython",
    "version": 3
   },
   "file_extension": ".py",
   "mimetype": "text/x-python",
   "name": "python",
   "nbconvert_exporter": "python",
   "pygments_lexer": "ipython3",
   "version": "3.7.3"
  }
 },
 "nbformat": 4,
 "nbformat_minor": 2
}
